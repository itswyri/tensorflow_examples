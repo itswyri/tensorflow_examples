{
 "cells": [
  {
   "cell_type": "code",
   "execution_count": 38,
   "metadata": {
    "collapsed": true
   },
   "outputs": [],
   "source": [
    "# Basic Usage"
   ]
  },
  {
   "cell_type": "code",
   "execution_count": 3,
   "metadata": {
    "collapsed": true
   },
   "outputs": [],
   "source": [
    "import tensorflow as tf\n",
    "import numpy as np\n",
    "sess = tf.InteractiveSession()"
   ]
  },
  {
   "cell_type": "markdown",
   "metadata": {},
   "source": [
    "## tf.stack"
   ]
  },
  {
   "cell_type": "code",
   "execution_count": 31,
   "metadata": {
    "collapsed": false
   },
   "outputs": [
    {
     "name": "stdout",
     "output_type": "stream",
     "text": [
      "a:\n",
      " [[1 2]\n",
      " [3 4]] \n",
      "\n",
      "b:\n",
      " [[5 6]\n",
      " [7 8]] \n",
      "\n",
      "c:\n",
      " [[ 9 10]\n",
      " [11 12]] \n",
      "\n",
      "d:\n",
      " [[ 9 10]\n",
      " [11 12]] \n",
      "\n",
      "batch1 shape: (4, 2, 2)\n",
      "[[[ 1  2]\n",
      "  [ 3  4]]\n",
      "\n",
      " [[ 5  6]\n",
      "  [ 7  8]]\n",
      "\n",
      " [[ 9 10]\n",
      "  [11 12]]\n",
      "\n",
      " [[13 14]\n",
      "  [15 16]]] \n",
      "\n",
      "batch2 shape: (4, 2, 2)\n",
      "[[[13 14]\n",
      "  [15 16]]\n",
      "\n",
      " [[ 9 10]\n",
      "  [11 12]]\n",
      "\n",
      " [[ 5  6]\n",
      "  [ 7  8]]\n",
      "\n",
      " [[ 1  2]\n",
      "  [ 3  4]]] \n",
      "\n"
     ]
    }
   ],
   "source": [
    "w = [[1,2], [3,4]]\n",
    "x = [[5,6], [7,8]]\n",
    "y = [[9,10], [11,12]]\n",
    "z = [[13,14], [15,16]]\n",
    "\n",
    "\n",
    "a = tf.constant(w)\n",
    "b = tf.constant(x)\n",
    "c = tf.constant(y)\n",
    "d = tf.constant(z)\n",
    "\n",
    "print('a:\\n', a.eval(),'\\n')\n",
    "print('b:\\n', b.eval(), '\\n')\n",
    "print('c:\\n', c.eval(), '\\n')\n",
    "print('d:\\n', c.eval(), '\\n')\n",
    "\n",
    "batch1 = tf.stack([a, b, c, d], axis=0)\n",
    "batch2 = tf.stack([d, c, b, a], axis=0)\n",
    "\n",
    "print('batch1 shape:', batch1.shape)\n",
    "print(batch1.eval(), '\\n')\n",
    "\n",
    "print('batch2 shape:', batch2.shape)\n",
    "print(batch2.eval(), '\\n')"
   ]
  },
  {
   "cell_type": "markdown",
   "metadata": {},
   "source": [
    "### slicing and indexing"
   ]
  },
  {
   "cell_type": "code",
   "execution_count": 37,
   "metadata": {
    "collapsed": false
   },
   "outputs": [
    {
     "name": "stdout",
     "output_type": "stream",
     "text": [
      "batch1_odd shape: (2, 2, 2)\n",
      "batch1_even shape: (2, 2, 2)\n",
      "batch2_odd shape: (2, 2, 2)\n",
      "batch2_even shape: (2, 2, 2)\n",
      "\n",
      "batch1_odd:\n",
      " [[[ 1  2]\n",
      "  [ 3  4]]\n",
      "\n",
      " [[ 9 10]\n",
      "  [11 12]]] \n",
      "\n",
      "batch1_even:\n",
      " [[[ 5  6]\n",
      "  [ 7  8]]\n",
      "\n",
      " [[13 14]\n",
      "  [15 16]]] \n",
      "\n",
      "batch2_odd:\n",
      " [[[13 14]\n",
      "  [15 16]]\n",
      "\n",
      " [[ 5  6]\n",
      "  [ 7  8]]] \n",
      "\n",
      "batch2_even:\n",
      " [[[ 9 10]\n",
      "  [11 12]]\n",
      "\n",
      " [[ 1  2]\n",
      "  [ 3  4]]] \n",
      "\n"
     ]
    }
   ],
   "source": [
    "batch1_odd  = batch1[::2]\n",
    "batch1_even = batch1[1::2]\n",
    "batch2_odd  = batch2[::2]\n",
    "batch2_even = batch2[1::2]\n",
    "\n",
    "print('batch1_odd shape:', batch1_odd.shape)\n",
    "print('batch1_even shape:', batch1_even.shape)\n",
    "print('batch2_odd shape:', batch2_odd.shape)\n",
    "print('batch2_even shape:', batch2_even.shape)\n",
    "\n",
    "print()\n",
    "print('batch1_odd:\\n', batch1_odd.eval(), '\\n')\n",
    "print('batch1_even:\\n', batch1_even.eval(), '\\n')\n",
    "print('batch2_odd:\\n', batch2_odd.eval(), '\\n')\n",
    "print('batch2_even:\\n', batch2_even.eval(), '\\n')"
   ]
  },
  {
   "cell_type": "markdown",
   "metadata": {},
   "source": [
    "## tf.einsum\n",
    "#### maxtrix multiplication for batch: $[C]_{i,j,k} = \\sum_{s} [A]_{i,j,s} \\bullet [B]_{i,s,k}$  or C(i,:,:) = tf.matmul(A(i,:,:) , B(i,:,:))"
   ]
  },
  {
   "cell_type": "code",
   "execution_count": 30,
   "metadata": {
    "collapsed": false
   },
   "outputs": [
    {
     "name": "stdout",
     "output_type": "stream",
     "text": [
      "mu0:\n",
      " [[31 34]\n",
      " [71 78]] \n",
      "\n",
      "mu1:\n",
      " [[ 67  78]\n",
      " [ 91 106]] \n",
      "\n",
      "mu2:\n",
      " [[39 58]\n",
      " [47 70]] \n",
      "\n",
      "bmul shape: (3, 2, 2)\n",
      "[[[ 31  34]\n",
      "  [ 71  78]]\n",
      "\n",
      " [[ 67  78]\n",
      "  [ 91 106]]\n",
      "\n",
      " [[ 39  58]\n",
      "  [ 47  70]]]\n"
     ]
    }
   ],
   "source": [
    "mul0 = tf.matmul(batch1[0,:,:], batch2[0,:,:])\n",
    "mul1 = tf.matmul(batch1[1,:,:], batch2[1,:,:])\n",
    "mul2 = tf.matmul(batch1[2,:,:], batch2[2,:,:])\n",
    "\n",
    "bmul = tf.einsum('ijs,isk->ijk', batch1, batch2)\n",
    "\n",
    "print('mu0:\\n', mul0.eval(), '\\n')\n",
    "print('mu1:\\n', mul1.eval(), '\\n')\n",
    "print('mu2:\\n', mul2.eval(), '\\n')\n",
    "\n",
    "print('bmul shape:', bmul.shape)\n",
    "print(bmul.eval())"
   ]
  },
  {
   "cell_type": "code",
   "execution_count": null,
   "metadata": {
    "collapsed": true
   },
   "outputs": [],
   "source": []
  }
 ],
 "metadata": {
  "kernelspec": {
   "display_name": "Python 3",
   "language": "python",
   "name": "python3"
  },
  "language_info": {
   "codemirror_mode": {
    "name": "ipython",
    "version": 3
   },
   "file_extension": ".py",
   "mimetype": "text/x-python",
   "name": "python",
   "nbconvert_exporter": "python",
   "pygments_lexer": "ipython3",
   "version": "3.5.2"
  }
 },
 "nbformat": 4,
 "nbformat_minor": 2
}
