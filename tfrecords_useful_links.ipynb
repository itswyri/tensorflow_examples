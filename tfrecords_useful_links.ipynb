{
 "cells": [
  {
   "cell_type": "markdown",
   "metadata": {},
   "source": [
    "# USEFUL LINKS FOR PRACTICING TFRECORDS\n",
    "\n",
    "\n",
    "### 1. Daniil's blog: Tfrecords Guide [[link](http://warmspringwinds.github.io/tensorflow/tf-slim/2016/12/21/tfrecords-guide/)]\n",
    "### 2. Tensorflow Programmer's Guide: Reading data [[link](https://www.tensorflow.org/programmers_guide/reading_data)]\n",
    "### 3. Tensorflow Programmer's Guide: Threading and Queues [[link](https://www.tensorflow.org/programmers_guide/threading_and_queues)]\n",
    "### 4. Tensorflow Tutorials: cifar10_input.py [[link](https://github.com/tensorflow/models/blob/master/tutorials/image/cifar10/cifar10_input.py)]\n",
    "### 5. Plan->Space: TFRecords for Humans [[link](http://planspace.org/20170323-tfrecords_for_humans/)]\n",
    "### 6. indico blog: Tensorflow Data Input (Part1): Placeholders, Protobufs & Queues [[link](https://indico.io/blog/tensorflow-data-inputs-part1-placeholders-protobufs-queues/)]"
   ]
  }
 ],
 "metadata": {
  "kernelspec": {
   "display_name": "Python 3",
   "language": "python",
   "name": "python3"
  },
  "language_info": {
   "codemirror_mode": {
    "name": "ipython",
    "version": 3
   },
   "file_extension": ".py",
   "mimetype": "text/x-python",
   "name": "python",
   "nbconvert_exporter": "python",
   "pygments_lexer": "ipython3",
   "version": "3.5.2"
  }
 },
 "nbformat": 4,
 "nbformat_minor": 2
}
